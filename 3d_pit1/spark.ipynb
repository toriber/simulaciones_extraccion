{
 "cells": [
  {
   "cell_type": "code",
   "execution_count": 1,
   "id": "d761de8a-a19b-4a30-b66a-2e4baffd4dcb",
   "metadata": {},
   "outputs": [],
   "source": [
    "import pyspark"
   ]
  },
  {
   "cell_type": "code",
   "execution_count": 2,
   "id": "27852e96-9000-43aa-8f3e-8c98b48df8ba",
   "metadata": {},
   "outputs": [],
   "source": [
    "import numpy as np"
   ]
  },
  {
   "cell_type": "code",
   "execution_count": 3,
   "id": "bbf1339a-469e-4056-ab21-90543e473f09",
   "metadata": {},
   "outputs": [],
   "source": [
    "from pyspark.sql import SparkSession"
   ]
  },
  {
   "cell_type": "code",
   "execution_count": 4,
   "id": "948f5fa1-bfc5-4aa1-b855-55c63650b78a",
   "metadata": {},
   "outputs": [],
   "source": [
    "spark=SparkSession.builder.appName('Practica').getOrCreate()"
   ]
  },
  {
   "cell_type": "code",
   "execution_count": null,
   "id": "ac2bc780-7896-4da2-bdf8-d5b29f2fc892",
   "metadata": {},
   "outputs": [],
   "source": []
  },
  {
   "cell_type": "code",
   "execution_count": 6,
   "id": "b69d2956-7934-4a00-bb49-874e4dcd721e",
   "metadata": {},
   "outputs": [],
   "source": [
    "X=np.genfromtxt('X_no_alpha_pit2.csv',delimiter=',')"
   ]
  },
  {
   "cell_type": "code",
   "execution_count": 8,
   "id": "4990f07f-451c-403c-9c95-71e9f342ee2b",
   "metadata": {},
   "outputs": [],
   "source": [
    "Y=np.genfromtxt('Y_no_w_pit2.csv',delimiter=',')"
   ]
  },
  {
   "cell_type": "code",
   "execution_count": 9,
   "id": "01074d84-c070-472a-840c-ca7c6e2671a5",
   "metadata": {},
   "outputs": [
    {
     "data": {
      "text/plain": [
       "(28516, 3)"
      ]
     },
     "execution_count": 9,
     "metadata": {},
     "output_type": "execute_result"
    }
   ],
   "source": [
    "X.shape"
   ]
  },
  {
   "cell_type": "code",
   "execution_count": 10,
   "id": "bbfa456c-19e5-40f3-a9dc-46ff39216461",
   "metadata": {},
   "outputs": [
    {
     "data": {
      "text/plain": [
       "(471464, 3)"
      ]
     },
     "execution_count": 10,
     "metadata": {},
     "output_type": "execute_result"
    }
   ],
   "source": [
    "Y.shape"
   ]
  },
  {
   "cell_type": "code",
   "execution_count": 5,
   "id": "6b34cf57-c946-47c3-b748-9874ae291474",
   "metadata": {},
   "outputs": [],
   "source": [
    "df_spark=spark.read.csv('Y_no_w_pit2.csv',inferSchema=True)"
   ]
  },
  {
   "cell_type": "code",
   "execution_count": null,
   "id": "15939a96-17d6-4b9f-ade0-8c15a4d62b17",
   "metadata": {},
   "outputs": [],
   "source": [
    "df_spark.withColumn"
   ]
  },
  {
   "cell_type": "code",
   "execution_count": 14,
   "id": "7f3823a1-57fc-4b60-8c6e-a6bc3cb54ed6",
   "metadata": {},
   "outputs": [],
   "source": [
    "from pyspark.sql.functions import lit"
   ]
  },
  {
   "cell_type": "code",
   "execution_count": 34,
   "id": "6fae0874-b09d-47e3-ac6c-6c29353a0254",
   "metadata": {},
   "outputs": [
    {
     "data": {
      "text/plain": [
       "DataFrame[_c0: int, _c1: int, _c2: int, _c3: int, _c4: int, _c5: int, _c6: int, _c7: int, _c8: int, _c9: int, _c10: int, _c11: int, _c12: int, _c13: int, _c14: int, _c15: int, _c16: int, _c17: int, _c18: int, _c19: int, _c20: int, _c21: int, _c22: int, _c23: int, _c24: int, _c25: int, _c26: int, _c27: int, _c28: int, _c29: int, _c30: int, _c31: int, _c32: int, _c33: int, _c34: int, _c35: int, _c36: int, _c37: int, _c38: int, _c39: int, _c40: int, _c41: int, _c42: int, _c43: int, _c44: int, _c45: int, _c46: int, _c47: int, _c48: int, _c49: int, _c50: int, _c51: int, _c52: int, _c53: int, _c54: int, _c55: int, _c56: int, _c57: int, _c58: int, _c59: int, _c60: int, _c61: int, _c62: int, _c63: int, _c64: int, _c65: int, _c66: int, _c67: int, _c68: int, _c69: int, _c70: int, _c71: int, _c72: int, _c73: int, _c74: int, _c75: int, _c76: int, _c77: int, _c78: int, _c79: int, _c80: int, _c81: int, _c82: int, _c83: int, _c84: int, _c85: int, _c86: int, _c87: int, _c88: int, _c89: int, _c90: int, _c91: int, _c92: int, _c93: int, _c94: int, _c95: int, _c96: int, _c97: int, _c98: int, _c99: int, _c100: int, _c101: int, _c102: int, _c103: int, _c104: int, _c105: int, _c106: int, _c107: int, _c108: int, _c109: int, _c110: int, _c111: int, _c112: int, _c113: int, _c114: int, _c115: int, _c116: int, _c117: int, _c118: int, _c119: int, _c120: int, _c121: int, _c122: int, _c123: int, _c124: int, _c125: int, _c126: int, _c127: int, _c128: int, _c129: int, _c130: int, _c131: int, _c132: int, _c133: int, _c134: int, _c135: int, _c136: int, _c137: int, _c138: int, _c139: int, _c140: int, _c141: int, _c142: int, _c143: int, _c144: int, _c145: int, _c146: int, _c147: int, _c148: int, _c149: int, _c150: int, _c151: int, _c152: int, _c153: int, _c154: int, _c155: int, _c156: int, _c157: int, _c158: int, _c159: int, _c160: int, _c161: int, _c162: int, _c163: int, _c164: int, _c165: int, _c166: int, _c167: int, _c168: int, _c169: int, _c170: int, _c171: int, _c172: int, _c173: int, _c174: int, _c175: int, _c176: int, _c177: int, _c178: int, _c179: int, _c180: int, _c181: int, _c182: int, _c183: int, _c184: int, _c185: int, _c186: int, _c187: int, _c188: int, _c189: int, _c190: int, _c191: int, _c192: int, _c193: int, _c194: int, _c195: int, _c196: int, _c197: int, _c198: int, _c199: int, _c200: int, _c201: int, _c202: int, _c203: int, _c204: int, _c205: int, _c206: int, _c207: int, _c208: int, _c209: int, _c210: int, _c211: int, _c212: int, _c213: int, _c214: int, _c215: int, _c216: int, _c217: int, _c218: int, _c219: int, _c220: int, _c221: int, _c222: int, _c223: int, _c224: int, _c225: int, _c226: int, _c227: int, _c228: int, _c229: int, _c230: int, _c231: int, _c232: int, _c233: int, _c234: int, _c235: int, _c236: int, _c237: int, _c238: int, _c239: int, _c240: int, _c241: int, _c242: int, _c243: int, _c244: int, _c245: int, _c246: int, _c247: int, _c248: int, _c249: int, _c250: int, _c251: int, _c252: int, _c253: int, _c254: int, _c255: int, _c256: int, _c257: int, _c258: int, _c259: int, _c260: int, _c261: int, _c262: int, _c263: int, _c264: int, _c265: int, _c266: int, _c267: int, _c268: int, _c269: int, _c270: int, _c271: int, _c272: int, _c273: int, _c274: int, _c275: int, _c276: int, _c277: int, _c278: int, _c279: int, _c280: int, _c281: int, _c282: int, _c283: int, _c284: int, _c285: int, _c286: int, _c287: int, _c288: int, _c289: int, _c290: int, _c291: int, _c292: int, _c293: int, _c294: int, _c295: int, _c296: int, _c297: int, _c298: int, _c299: int, _c300: int, _c301: int, _c302: int, _c303: int, _c304: int, _c305: int, _c306: int, _c307: int, _c308: int, _c309: int, _c310: int, _c311: int, _c312: int, _c313: int, _c314: int, _c315: int, _c316: int, _c317: int, _c318: int, _c319: int, _c320: int, _c321: int, _c322: int, _c323: int, _c324: int, _c325: int, _c326: int, _c327: int, _c328: int, _c329: int, _c330: int, _c331: int, _c332: int, _c333: int, _c334: int, _c335: int, _c336: int, _c337: int, _c338: int, _c339: int, _c340: int, _c341: int, _c342: int, _c343: int, _c344: int, _c345: int, _c346: int, _c347: int, _c348: int, _c349: int, _c350: int, _c351: int, _c352: int, _c353: int, _c354: int, _c355: int, _c356: int, _c357: int, _c358: int, _c359: int, _c360: int, _c361: int, _c362: int, _c363: int, _c364: int, _c365: int, _c366: int, _c367: int, _c368: int, _c369: int, _c370: int, _c371: int, _c372: int, _c373: int, _c374: int, _c375: int, _c376: int, _c377: int, _c378: int, _c379: int, _c380: int, _c381: int, _c382: int, _c383: int, _c384: int, _c385: int, _c386: int, _c387: int, _c388: int, _c389: int, _c390: int, _c391: int, _c392: int, _c393: int, _c394: int, _c395: int, _c396: int, _c397: int, _c398: int, _c399: int, _c400: int, _c401: int, _c402: int, _c403: int, _c404: int, _c405: int, _c406: int, _c407: int, _c408: int, _c409: int, _c410: int, _c411: int, _c412: int, _c413: int, _c414: int, _c415: int, _c416: int, _c417: int, _c418: int, _c419: int, _c420: int, _c421: int, _c422: int, _c423: int, _c424: int, _c425: int, _c426: int, _c427: int, _c428: int, _c429: int, _c430: int, _c431: int, _c432: int, _c433: int, _c434: int, _c435: int, _c436: int, _c437: int, _c438: int, _c439: int, _c440: int, _c441: int, _c442: int, _c443: int, _c444: int, _c445: int, _c446: int, _c447: int, _c448: int, _c449: int, _c450: int, _c451: int, _c452: int, _c453: int, _c454: int, _c455: int, _c456: int, _c457: int, _c458: int, _c459: int, _c460: int, _c461: int, _c462: int, _c463: int, _c464: int, _c465: int, _c466: int, _c467: int, _c468: int, _c469: int, _c470: int, _c471: int, _c472: int, _c473: int, _c474: int, _c475: int, _c476: int, _c477: int, _c478: int, _c479: int, _c480: int, _c481: int, _c482: int, _c483: int, _c484: int, _c485: int, _c486: int, _c487: int, _c488: int, _c489: int, _c490: int, _c491: int, _c492: int, _c493: int, _c494: int, _c495: int, _c496: int, _c497: int, _c498: int, _c499: int, _c500: int, _c501: int, _c502: int, _c503: int, _c504: int, _c505: int, _c506: int, _c507: int, _c508: int, _c509: int, _c510: int, _c511: int, _c512: int, _c513: int, _c514: int, _c515: int, _c516: int, _c517: int, _c518: int, _c519: int, _c520: int, _c521: int, _c522: int, _c523: int, _c524: int, _c525: int, _c526: int, _c527: int, _c528: int, _c529: int, _c530: int, _c531: int, _c532: int, _c533: int, _c534: int, _c535: int, _c536: int, _c537: int, _c538: int, _c539: int, _c540: int, _c541: int, _c542: int, _c543: int, _c544: int, _c545: int, _c546: int, _c547: int, _c548: int, _c549: int, _c550: int, _c551: int, _c552: int, _c553: int, _c554: int, _c555: int, _c556: int, _c557: int, _c558: int, _c559: int, _c560: int, _c561: int, _c562: int, _c563: int, _c564: int, _c565: int, _c566: int, _c567: int, _c568: int, _c569: int, _c570: int, _c571: int, _c572: int, _c573: int, _c574: int, _c575: int, _c576: int, _c577: int, _c578: int, _c579: int, _c580: int, _c581: int, _c582: int, _c583: int, _c584: int, _c585: int, _c586: int, _c587: int, _c588: int, _c589: int, _c590: int, _c591: int, _c592: int, _c593: int, _c594: int, _c595: int, _c596: int, _c597: int, _c598: int, _c599: int, _c600: int, _c601: int, _c602: int, _c603: int, _c604: int, _c605: int, _c606: int, _c607: int, _c608: int, _c609: int, _c610: int, _c611: int, _c612: int, _c613: int, _c614: int, _c615: int, _c616: int, _c617: int, _c618: int, _c619: int, _c620: int, _c621: int, _c622: int, _c623: int, _c624: int, _c625: int, _c626: int, _c627: int, _c628: int, _c629: int, _c630: int, _c631: int, _c632: int, _c633: int, _c634: int, _c635: int, _c636: int, _c637: int, _c638: int, _c639: int, _c640: int, _c641: int, _c642: int, _c643: int, _c644: int, _c645: int, _c646: int, _c647: int, _c648: int, _c649: int, _c650: int, _c651: int, _c652: int, _c653: int, _c654: int, _c655: int, _c656: int, _c657: int, _c658: int, _c659: int, _c660: int, _c661: int, _c662: int, _c663: int, _c664: int, _c665: int, _c666: int, _c667: int, _c668: int, _c669: int, _c670: int, _c671: int, _c672: int, _c673: int, _c674: int, _c675: int, _c676: int, _c677: int, _c678: int, _c679: int, _c680: int, _c681: int, _c682: int, _c683: int, _c684: int, _c685: int, _c686: int, _c687: int, _c688: int, _c689: int, _c690: int, _c691: int, _c692: int, _c693: int, _c694: int, _c695: int, _c696: int, _c697: int, _c698: int, _c699: int, _c700: int, _c701: int, _c702: int, _c703: int, _c704: int, _c705: int, _c706: int, _c707: int, _c708: int, _c709: int, _c710: int, _c711: int, _c712: int, _c713: int, _c714: int, _c715: int, _c716: int, _c717: int, _c718: int, _c719: int, _c720: int, _c721: int, _c722: int, _c723: int, _c724: int, _c725: int, _c726: int, _c727: int, _c728: int, _c729: int, _c730: int, _c731: int, _c732: int, _c733: int, _c734: int, _c735: int, _c736: int, _c737: int, _c738: int, _c739: int, _c740: int, _c741: int, _c742: int, _c743: int, _c744: int, _c745: int, _c746: int, _c747: int, _c748: int, _c749: int, _c750: int, _c751: int, _c752: int, _c753: int, _c754: int, _c755: int, _c756: int, _c757: int, _c758: int, _c759: int, _c760: int, _c761: int, _c762: int, _c763: int, _c764: int, _c765: int, _c766: int, _c767: int, _c768: int, _c769: int, _c770: int, _c771: int, _c772: int, _c773: int, _c774: int, _c775: int, _c776: int, _c777: int, _c778: int, _c779: int, _c780: int, _c781: int, _c782: int, _c783: int, _c784: int, _c785: int, _c786: int, _c787: int, _c788: int, _c789: int, _c790: int, _c791: int, _c792: int, _c793: int, _c794: int, _c795: int, _c796: int, _c797: int, _c798: int, _c799: int, _c800: int, _c801: int, _c802: int, _c803: int, _c804: int, _c805: int, _c806: int, _c807: int, _c808: int, _c809: int, _c810: int, _c811: int, _c812: int, _c813: int, _c814: int, _c815: int, _c816: int, _c817: int, _c818: int, _c819: int, _c820: int, _c821: int, _c822: int, _c823: int, _c824: int, _c825: int, _c826: int, _c827: int, _c828: int, _c829: int, _c830: int, _c831: int, _c832: int, _c833: int, _c834: int, _c835: int, _c836: int, _c837: int, _c838: int, _c839: int, _c840: int, _c841: int, _c842: int, _c843: int, _c844: int, _c845: int, _c846: int, _c847: int, _c848: int, _c849: int, _c850: int, _c851: int, _c852: int, _c853: int, _c854: int, _c855: int, _c856: int, _c857: int, _c858: int, _c859: int, _c860: int, _c861: int, _c862: int, _c863: int, _c864: int, _c865: int, _c866: int, _c867: int, _c868: int, _c869: int, _c870: int, _c871: int, _c872: int, _c873: int, _c874: int, _c875: int, _c876: int, _c877: int, _c878: int, _c879: int, _c880: int, _c881: int, _c882: int, _c883: int, _c884: int, _c885: int, _c886: int, _c887: int, _c888: int, _c889: int, _c890: int, _c891: int, _c892: int, _c893: int, _c894: int, _c895: int, _c896: int, _c897: int, _c898: int, _c899: int, _c900: int, _c901: int, _c902: int, _c903: int, _c904: int, _c905: int, _c906: int, _c907: int, _c908: int, _c909: int, _c910: int, _c911: int, _c912: int, _c913: int, _c914: int, _c915: int, _c916: int, _c917: int, _c918: int, _c919: int, _c920: int, _c921: int, _c922: int, _c923: int, _c924: int, _c925: int, _c926: int, _c927: int, _c928: int, _c929: int, _c930: int, _c931: int, _c932: int, _c933: int, _c934: int, _c935: int, _c936: int, _c937: int, _c938: int, _c939: int, _c940: int, _c941: int, _c942: int, _c943: int, _c944: int, _c945: int, _c946: int, _c947: int, _c948: int, _c949: int, _c950: int, _c951: int, _c952: int, _c953: int, _c954: int, _c955: int, _c956: int, _c957: int, _c958: int, _c959: int, _c960: int, _c961: int, _c962: int, _c963: int, _c964: int, _c965: int, _c966: int, _c967: int, _c968: int, _c969: int, _c970: int, _c971: int, _c972: int, _c973: int, _c974: int, _c975: int, _c976: int, _c977: int, _c978: int, _c979: int, _c980: int, _c981: int, _c982: int, _c983: int, _c984: int, _c985: int, _c986: int, _c987: int, _c988: int, _c989: int, _c990: int, _c991: int, _c992: int, _c993: int, _c994: int, _c995: int, _c996: int, _c997: int, _c998: int, _c999: int, _c1000: int, _c1001: int, _c1002: int, _c1003: int, _c1004: int, _c1005: int, _c1006: int, _c1007: int, _c1008: int, _c1009: int, _c1010: int, _c1011: int, _c1012: int, _c1013: int, _c1014: int, _c1015: int, _c1016: int, _c1017: int, _c1018: int, _c1019: int, _c1020: int, _c1021: int, _c1022: int, _c1023: int, _c1024: int, _c1025: int, _c1026: int, _c1027: int, _c1028: int, _c1029: int, _c1030: int, _c1031: int, _c1032: int, _c1033: int, _c1034: int, _c1035: int, _c1036: int, _c1037: int, _c1038: int, _c1039: int, _c1040: int, _c1041: int, _c1042: int, _c1043: int, _c1044: int, _c1045: int, _c1046: int, _c1047: int, _c1048: int, _c1049: int, _c1050: int, _c1051: int, _c1052: int, _c1053: int, _c1054: int, _c1055: int, _c1056: int, _c1057: int, _c1058: int, _c1059: int, _c1060: int, _c1061: int, _c1062: int, _c1063: int, _c1064: int, _c1065: int, _c1066: int, _c1067: int, _c1068: int, _c1069: int, _c1070: int, _c1071: int, _c1072: int, _c1073: int, _c1074: int, _c1075: int, _c1076: int, _c1077: int, _c1078: int, _c1079: int, _c1080: int, _c1081: int, _c1082: int, _c1083: int, _c1084: int, _c1085: int, _c1086: int, _c1087: int, _c1088: int, _c1089: int, _c1090: int, _c1091: int, _c1092: int, _c1093: int, _c1094: int, _c1095: int, _c1096: int, _c1097: int, _c1098: int, _c1099: int, _c1100: int, _c1101: int, _c1102: int, _c1103: int, _c1104: int, _c1105: int, _c1106: int, _c1107: int, _c1108: int, _c1109: int, _c1110: int, _c1111: int, _c1112: int, _c1113: int, _c1114: int, _c1115: int, _c1116: int, _c1117: int, _c1118: int, _c1119: int, _c1120: int, _c1121: int, _c1122: int, _c1123: int, _c1124: int, _c1125: int, _c1126: int, _c1127: int, _c1128: int, _c1129: int, _c1130: int, _c1131: int, _c1132: int, _c1133: int, _c1134: int, _c1135: int, _c1136: int, _c1137: int, _c1138: int, _c1139: int, _c1140: int, _c1141: int, _c1142: int, _c1143: int, _c1144: int, _c1145: int, _c1146: int, _c1147: int, _c1148: int, _c1149: int, _c1150: int, _c1151: int, _c1152: int, _c1153: int, _c1154: int, _c1155: int, _c1156: int, _c1157: int, _c1158: int, _c1159: int, _c1160: int, _c1161: int, _c1162: int, _c1163: int, _c1164: int, _c1165: int, _c1166: int, _c1167: int, _c1168: int, _c1169: int, _c1170: int, _c1171: int, _c1172: int, _c1173: int, _c1174: int, _c1175: int, _c1176: int, _c1177: int, _c1178: int, _c1179: int, _c1180: int, _c1181: int, _c1182: int, _c1183: int, _c1184: int, _c1185: int, _c1186: int, _c1187: int, _c1188: int, _c1189: int, _c1190: int, _c1191: int, _c1192: int, _c1193: int, _c1194: int, _c1195: int, _c1196: int, _c1197: int, _c1198: int, _c1199: int, _c1200: int, _c1201: int, _c1202: int, _c1203: int, _c1204: int, _c1205: int, _c1206: int, _c1207: int, _c1208: int, _c1209: int, _c1210: int, _c1211: int, _c1212: int, _c1213: int, _c1214: int, _c1215: int, _c1216: int, _c1217: int, _c1218: int, _c1219: int, _c1220: int, _c1221: int, _c1222: int, _c1223: int, _c1224: int, _c1225: int, _c1226: int, _c1227: int, _c1228: int, _c1229: int, _c1230: int, _c1231: int, _c1232: int, _c1233: int, _c1234: int, _c1235: int, _c1236: int, _c1237: int, _c1238: int, _c1239: int, _c1240: int, _c1241: int, _c1242: int, _c1243: int, _c1244: int, _c1245: int, _c1246: int, _c1247: int, _c1248: int, _c1249: int, _c1250: int, _c1251: int, _c1252: int, _c1253: int, _c1254: int, _c1255: int, _c1256: int, _c1257: int, _c1258: int, _c1259: int, _c1260: int, _c1261: int, _c1262: int, _c1263: int, _c1264: int, _c1265: int, _c1266: int, _c1267: int, _c1268: int, _c1269: int, _c1270: int, _c1271: int, _c1272: int, _c1273: int, _c1274: int, _c1275: int, _c1276: int, _c1277: int, _c1278: int, _c1279: int, _c1280: int, _c1281: int, _c1282: int, _c1283: int, _c1284: int, _c1285: int, _c1286: int, _c1287: int, _c1288: int, _c1289: int, _c1290: int, _c1291: int, _c1292: int, _c1293: int, _c1294: int, _c1295: int, _c1296: int, _c1297: int, _c1298: int, _c1299: int, _c1300: int, _c1301: int, _c1302: int, _c1303: int, _c1304: int, _c1305: int, _c1306: int, _c1307: int, _c1308: int, _c1309: int, _c1310: int, _c1311: int, _c1312: int, _c1313: int, _c1314: int, _c1315: int, _c1316: int, _c1317: int, _c1318: int, _c1319: int, _c1320: int, _c1321: int, _c1322: int, _c1323: int, _c1324: int, _c1325: int, _c1326: int, _c1327: int, _c1328: int, _c1329: int, _c1330: int, _c1331: int, _c1332: int, _c1333: int, _c1334: int, _c1335: int, _c1336: int, _c1337: int, _c1338: int, _c1339: int, _c1340: int, _c1341: int, _c1342: int, _c1343: int, _c1344: int, _c1345: int, _c1346: int, _c1347: int, _c1348: int, _c1349: int, _c1350: int, _c1351: int, _c1352: int, _c1353: int, _c1354: int, _c1355: int, _c1356: int, _c1357: int, _c1358: int, _c1359: int, _c1360: int, _c1361: int, _c1362: int, _c1363: int, _c1364: int, _c1365: int, _c1366: int, _c1367: int, _c1368: int, _c1369: int, _c1370: int, _c1371: int, _c1372: int, _c1373: int, _c1374: int, _c1375: int, _c1376: int, _c1377: int, _c1378: int, _c1379: int, _c1380: int, _c1381: int, _c1382: int, _c1383: int, _c1384: int, _c1385: int, _c1386: int, _c1387: int, _c1388: int, _c1389: int, _c1390: int, _c1391: int, _c1392: int, _c1393: int, _c1394: int, _c1395: int, _c1396: int, _c1397: int, _c1398: int, _c1399: int, _c1400: int, _c1401: int, _c1402: int, _c1403: int, _c1404: int, _c1405: int, _c1406: int, _c1407: int, _c1408: int, _c1409: int, _c1410: int, _c1411: int, _c1412: int, _c1413: int, _c1414: int, _c1415: int, _c1416: int, _c1417: int, _c1418: int, _c1419: int, _c1420: int, _c1421: int, _c1422: int, _c1423: int, _c1424: int, _c1425: int, _c1426: int, _c1427: int, _c1428: int, _c1429: int, _c1430: int, _c1431: int, _c1432: int, _c1433: int, _c1434: int, _c1435: int, _c1436: int, _c1437: int, _c1438: int, _c1439: int, _c1440: int, _c1441: int, _c1442: int, _c1443: int, _c1444: int, _c1445: int, _c1446: int, _c1447: int, _c1448: int, _c1449: int, _c1450: int, _c1451: int, _c1452: int, _c1453: int, _c1454: int, _c1455: int, _c1456: int, _c1457: int, _c1458: int, _c1459: int, _c1460: int, _c1461: int, _c1462: int, _c1463: int, _c1464: int, _c1465: int, _c1466: int, _c1467: int, _c1468: int, _c1469: int, _c1470: int, _c1471: int, _c1472: int, _c1473: int, _c1474: int, _c1475: int, _c1476: int, _c1477: int, _c1478: int, _c1479: int, _c1480: int, _c1481: int, _c1482: int, _c1483: int, _c1484: int, _c1485: int, _c1486: int, _c1487: int, _c1488: int, _c1489: int, _c1490: int, _c1491: int, _c1492: int, _c1493: int, _c1494: int, _c1495: int, _c1496: int, _c1497: int, _c1498: int, _c1499: int, _c1500: int, _c1501: int, _c1502: int, _c1503: int, _c1504: int, _c1505: int, _c1506: int, _c1507: int, _c1508: int, _c1509: int, _c1510: int, _c1511: int, _c1512: int, _c1513: int, _c1514: int, _c1515: int, _c1516: int, _c1517: int, _c1518: int, _c1519: int, _c1520: int, _c1521: int, _c1522: int, _c1523: int, _c1524: int, _c1525: int, _c1526: int, _c1527: int, _c1528: int, _c1529: int, _c1530: int, _c1531: int, _c1532: int, _c1533: int, _c1534: int, _c1535: int, _c1536: int, _c1537: int, _c1538: int, _c1539: int, _c1540: int, _c1541: int, _c1542: int, _c1543: int, _c1544: int, _c1545: int, _c1546: int, _c1547: int, _c1548: int, _c1549: int, _c1550: int, _c1551: int, _c1552: int]"
      ]
     },
     "execution_count": 34,
     "metadata": {},
     "output_type": "execute_result"
    }
   ],
   "source": [
    "df_spark"
   ]
  },
  {
   "cell_type": "code",
   "execution_count": 33,
   "id": "ce243309-20a1-4797-bb8d-07654c126b7c",
   "metadata": {},
   "outputs": [
    {
     "name": "stderr",
     "output_type": "stream",
     "text": [
      "ERROR:root:KeyboardInterrupt while sending command.\n",
      "Traceback (most recent call last):\n",
      "  File \"C:\\Users\\b3rna\\AppData\\Local\\Temp\\ipykernel_1368\\1121829198.py\", line 3, in <cell line: 1>\n",
      "    df_spark=df_spark.withColumn(df_spark.columns[i],lit(10**9))\n",
      "IndexError: list index out of range\n",
      "\n",
      "During handling of the above exception, another exception occurred:\n",
      "\n",
      "Traceback (most recent call last):\n",
      "  File \"C:\\Users\\b3rna\\miniconda3\\envs\\env_spark\\lib\\site-packages\\py4j\\java_gateway.py\", line 1038, in send_command\n",
      "    response = connection.send_command(command)\n",
      "  File \"C:\\Users\\b3rna\\miniconda3\\envs\\env_spark\\lib\\site-packages\\py4j\\clientserver.py\", line 475, in send_command\n",
      "    answer = smart_decode(self.stream.readline()[:-1])\n",
      "  File \"C:\\Users\\b3rna\\miniconda3\\envs\\env_spark\\lib\\socket.py\", line 705, in readinto\n",
      "    return self._sock.recv_into(b)\n",
      "KeyboardInterrupt\n"
     ]
    },
    {
     "ename": "KeyboardInterrupt",
     "evalue": "",
     "output_type": "error",
     "traceback": [
      "\u001b[1;31m---------------------------------------------------------------------------\u001b[0m",
      "\u001b[1;31mIndexError\u001b[0m                                Traceback (most recent call last)",
      "Input \u001b[1;32mIn [33]\u001b[0m, in \u001b[0;36m<cell line: 1>\u001b[1;34m()\u001b[0m\n\u001b[0;32m      2\u001b[0m \u001b[38;5;28;01mtry\u001b[39;00m:\n\u001b[1;32m----> 3\u001b[0m     df_spark\u001b[38;5;241m=\u001b[39mdf_spark\u001b[38;5;241m.\u001b[39mwithColumn(\u001b[43mdf_spark\u001b[49m\u001b[38;5;241;43m.\u001b[39;49m\u001b[43mcolumns\u001b[49m\u001b[43m[\u001b[49m\u001b[43mi\u001b[49m\u001b[43m]\u001b[49m,lit(\u001b[38;5;241m10\u001b[39m\u001b[38;5;241m*\u001b[39m\u001b[38;5;241m*\u001b[39m\u001b[38;5;241m9\u001b[39m))\n\u001b[0;32m      4\u001b[0m \u001b[38;5;28;01mexcept\u001b[39;00m:\n",
      "\u001b[1;31mIndexError\u001b[0m: list index out of range",
      "\nDuring handling of the above exception, another exception occurred:\n",
      "\u001b[1;31mKeyboardInterrupt\u001b[0m                         Traceback (most recent call last)",
      "Input \u001b[1;32mIn [33]\u001b[0m, in \u001b[0;36m<cell line: 1>\u001b[1;34m()\u001b[0m\n\u001b[0;32m      3\u001b[0m     df_spark\u001b[38;5;241m=\u001b[39mdf_spark\u001b[38;5;241m.\u001b[39mwithColumn(df_spark\u001b[38;5;241m.\u001b[39mcolumns[i],lit(\u001b[38;5;241m10\u001b[39m\u001b[38;5;241m*\u001b[39m\u001b[38;5;241m*\u001b[39m\u001b[38;5;241m9\u001b[39m))\n\u001b[0;32m      4\u001b[0m \u001b[38;5;28;01mexcept\u001b[39;00m:\n\u001b[1;32m----> 5\u001b[0m     df_spark\u001b[38;5;241m=\u001b[39m\u001b[43mdf_spark\u001b[49m\u001b[38;5;241;43m.\u001b[39;49m\u001b[43mwithColumn\u001b[49m\u001b[43m(\u001b[49m\u001b[38;5;124;43m'\u001b[39;49m\u001b[38;5;124;43m_c\u001b[39;49m\u001b[38;5;132;43;01m{}\u001b[39;49;00m\u001b[38;5;124;43m'\u001b[39;49m\u001b[38;5;241;43m.\u001b[39;49m\u001b[43mformat\u001b[49m\u001b[43m(\u001b[49m\u001b[43mi\u001b[49m\u001b[43m)\u001b[49m\u001b[43m,\u001b[49m\u001b[43mlit\u001b[49m\u001b[43m(\u001b[49m\u001b[38;5;241;43m10\u001b[39;49m\u001b[38;5;241;43m*\u001b[39;49m\u001b[38;5;241;43m*\u001b[39;49m\u001b[38;5;241;43m9\u001b[39;49m\u001b[43m)\u001b[49m\u001b[43m)\u001b[49m\n",
      "File \u001b[1;32m~\\miniconda3\\envs\\env_spark\\lib\\site-packages\\pyspark\\sql\\dataframe.py:2478\u001b[0m, in \u001b[0;36mDataFrame.withColumn\u001b[1;34m(self, colName, col)\u001b[0m\n\u001b[0;32m   2476\u001b[0m \u001b[38;5;28;01mif\u001b[39;00m \u001b[38;5;129;01mnot\u001b[39;00m \u001b[38;5;28misinstance\u001b[39m(col, Column):\n\u001b[0;32m   2477\u001b[0m     \u001b[38;5;28;01mraise\u001b[39;00m \u001b[38;5;167;01mTypeError\u001b[39;00m(\u001b[38;5;124m\"\u001b[39m\u001b[38;5;124mcol should be Column\u001b[39m\u001b[38;5;124m\"\u001b[39m)\n\u001b[1;32m-> 2478\u001b[0m \u001b[38;5;28;01mreturn\u001b[39;00m DataFrame(\u001b[38;5;28;43mself\u001b[39;49m\u001b[38;5;241;43m.\u001b[39;49m\u001b[43m_jdf\u001b[49m\u001b[38;5;241;43m.\u001b[39;49m\u001b[43mwithColumn\u001b[49m\u001b[43m(\u001b[49m\u001b[43mcolName\u001b[49m\u001b[43m,\u001b[49m\u001b[43m \u001b[49m\u001b[43mcol\u001b[49m\u001b[38;5;241;43m.\u001b[39;49m\u001b[43m_jc\u001b[49m\u001b[43m)\u001b[49m, \u001b[38;5;28mself\u001b[39m\u001b[38;5;241m.\u001b[39msql_ctx)\n",
      "File \u001b[1;32m~\\miniconda3\\envs\\env_spark\\lib\\site-packages\\py4j\\java_gateway.py:1320\u001b[0m, in \u001b[0;36mJavaMember.__call__\u001b[1;34m(self, *args)\u001b[0m\n\u001b[0;32m   1313\u001b[0m args_command, temp_args \u001b[38;5;241m=\u001b[39m \u001b[38;5;28mself\u001b[39m\u001b[38;5;241m.\u001b[39m_build_args(\u001b[38;5;241m*\u001b[39margs)\n\u001b[0;32m   1315\u001b[0m command \u001b[38;5;241m=\u001b[39m proto\u001b[38;5;241m.\u001b[39mCALL_COMMAND_NAME \u001b[38;5;241m+\u001b[39m\\\n\u001b[0;32m   1316\u001b[0m     \u001b[38;5;28mself\u001b[39m\u001b[38;5;241m.\u001b[39mcommand_header \u001b[38;5;241m+\u001b[39m\\\n\u001b[0;32m   1317\u001b[0m     args_command \u001b[38;5;241m+\u001b[39m\\\n\u001b[0;32m   1318\u001b[0m     proto\u001b[38;5;241m.\u001b[39mEND_COMMAND_PART\n\u001b[1;32m-> 1320\u001b[0m answer \u001b[38;5;241m=\u001b[39m \u001b[38;5;28;43mself\u001b[39;49m\u001b[38;5;241;43m.\u001b[39;49m\u001b[43mgateway_client\u001b[49m\u001b[38;5;241;43m.\u001b[39;49m\u001b[43msend_command\u001b[49m\u001b[43m(\u001b[49m\u001b[43mcommand\u001b[49m\u001b[43m)\u001b[49m\n\u001b[0;32m   1321\u001b[0m return_value \u001b[38;5;241m=\u001b[39m get_return_value(\n\u001b[0;32m   1322\u001b[0m     answer, \u001b[38;5;28mself\u001b[39m\u001b[38;5;241m.\u001b[39mgateway_client, \u001b[38;5;28mself\u001b[39m\u001b[38;5;241m.\u001b[39mtarget_id, \u001b[38;5;28mself\u001b[39m\u001b[38;5;241m.\u001b[39mname)\n\u001b[0;32m   1324\u001b[0m \u001b[38;5;28;01mfor\u001b[39;00m temp_arg \u001b[38;5;129;01min\u001b[39;00m temp_args:\n",
      "File \u001b[1;32m~\\miniconda3\\envs\\env_spark\\lib\\site-packages\\py4j\\java_gateway.py:1038\u001b[0m, in \u001b[0;36mGatewayClient.send_command\u001b[1;34m(self, command, retry, binary)\u001b[0m\n\u001b[0;32m   1036\u001b[0m connection \u001b[38;5;241m=\u001b[39m \u001b[38;5;28mself\u001b[39m\u001b[38;5;241m.\u001b[39m_get_connection()\n\u001b[0;32m   1037\u001b[0m \u001b[38;5;28;01mtry\u001b[39;00m:\n\u001b[1;32m-> 1038\u001b[0m     response \u001b[38;5;241m=\u001b[39m \u001b[43mconnection\u001b[49m\u001b[38;5;241;43m.\u001b[39;49m\u001b[43msend_command\u001b[49m\u001b[43m(\u001b[49m\u001b[43mcommand\u001b[49m\u001b[43m)\u001b[49m\n\u001b[0;32m   1039\u001b[0m     \u001b[38;5;28;01mif\u001b[39;00m binary:\n\u001b[0;32m   1040\u001b[0m         \u001b[38;5;28;01mreturn\u001b[39;00m response, \u001b[38;5;28mself\u001b[39m\u001b[38;5;241m.\u001b[39m_create_connection_guard(connection)\n",
      "File \u001b[1;32m~\\miniconda3\\envs\\env_spark\\lib\\site-packages\\py4j\\clientserver.py:475\u001b[0m, in \u001b[0;36mClientServerConnection.send_command\u001b[1;34m(self, command)\u001b[0m\n\u001b[0;32m    473\u001b[0m \u001b[38;5;28;01mtry\u001b[39;00m:\n\u001b[0;32m    474\u001b[0m     \u001b[38;5;28;01mwhile\u001b[39;00m \u001b[38;5;28;01mTrue\u001b[39;00m:\n\u001b[1;32m--> 475\u001b[0m         answer \u001b[38;5;241m=\u001b[39m smart_decode(\u001b[38;5;28;43mself\u001b[39;49m\u001b[38;5;241;43m.\u001b[39;49m\u001b[43mstream\u001b[49m\u001b[38;5;241;43m.\u001b[39;49m\u001b[43mreadline\u001b[49m\u001b[43m(\u001b[49m\u001b[43m)\u001b[49m[:\u001b[38;5;241m-\u001b[39m\u001b[38;5;241m1\u001b[39m])\n\u001b[0;32m    476\u001b[0m         logger\u001b[38;5;241m.\u001b[39mdebug(\u001b[38;5;124m\"\u001b[39m\u001b[38;5;124mAnswer received: \u001b[39m\u001b[38;5;132;01m{0}\u001b[39;00m\u001b[38;5;124m\"\u001b[39m\u001b[38;5;241m.\u001b[39mformat(answer))\n\u001b[0;32m    477\u001b[0m         \u001b[38;5;66;03m# Happens when a the other end is dead. There might be an empty\u001b[39;00m\n\u001b[0;32m    478\u001b[0m         \u001b[38;5;66;03m# answer before the socket raises an error.\u001b[39;00m\n",
      "File \u001b[1;32m~\\miniconda3\\envs\\env_spark\\lib\\socket.py:705\u001b[0m, in \u001b[0;36mSocketIO.readinto\u001b[1;34m(self, b)\u001b[0m\n\u001b[0;32m    703\u001b[0m \u001b[38;5;28;01mwhile\u001b[39;00m \u001b[38;5;28;01mTrue\u001b[39;00m:\n\u001b[0;32m    704\u001b[0m     \u001b[38;5;28;01mtry\u001b[39;00m:\n\u001b[1;32m--> 705\u001b[0m         \u001b[38;5;28;01mreturn\u001b[39;00m \u001b[38;5;28;43mself\u001b[39;49m\u001b[38;5;241;43m.\u001b[39;49m\u001b[43m_sock\u001b[49m\u001b[38;5;241;43m.\u001b[39;49m\u001b[43mrecv_into\u001b[49m\u001b[43m(\u001b[49m\u001b[43mb\u001b[49m\u001b[43m)\u001b[49m\n\u001b[0;32m    706\u001b[0m     \u001b[38;5;28;01mexcept\u001b[39;00m timeout:\n\u001b[0;32m    707\u001b[0m         \u001b[38;5;28mself\u001b[39m\u001b[38;5;241m.\u001b[39m_timeout_occurred \u001b[38;5;241m=\u001b[39m \u001b[38;5;28;01mTrue\u001b[39;00m\n",
      "\u001b[1;31mKeyboardInterrupt\u001b[0m: "
     ]
    }
   ],
   "source": [
    "for i in range(X.shape[0]):\n",
    "    try:\n",
    "        df_spark=df_spark.withColumn(df_spark.columns[i],lit(10**9))\n",
    "    except:\n",
    "        df_spark=df_spark.withColumn('_c{}'.format(i),lit(10**9))\n",
    "        \n",
    "        "
   ]
  },
  {
   "cell_type": "code",
   "execution_count": null,
   "id": "7c55a94a-6293-44d9-8f0b-abaf14951215",
   "metadata": {},
   "outputs": [],
   "source": []
  },
  {
   "cell_type": "code",
   "execution_count": 13,
   "id": "ba67b4ec-13a7-4bd6-aa14-1b0af6f22ab2",
   "metadata": {},
   "outputs": [
    {
     "data": {
      "text/plain": [
       "['_c0', '_c1', '_c2']"
      ]
     },
     "execution_count": 13,
     "metadata": {},
     "output_type": "execute_result"
    }
   ],
   "source": [
    "df_spark.columns"
   ]
  },
  {
   "cell_type": "code",
   "execution_count": 21,
   "id": "84371818-9ec6-47e5-a342-11fc68114251",
   "metadata": {},
   "outputs": [
    {
     "data": {
      "text/plain": [
       "['_c0', '_c1', '_c2']"
      ]
     },
     "execution_count": 21,
     "metadata": {},
     "output_type": "execute_result"
    }
   ],
   "source": [
    "df_spark.columns"
   ]
  },
  {
   "cell_type": "code",
   "execution_count": 29,
   "id": "e94d54cd-e9dc-49d1-8efe-326f80e59bfc",
   "metadata": {},
   "outputs": [
    {
     "data": {
      "text/plain": [
       "-0.1999999999999993"
      ]
     },
     "execution_count": 29,
     "metadata": {},
     "output_type": "execute_result"
    }
   ],
   "source": [
    "df_spark.collect()[0][1]"
   ]
  },
  {
   "cell_type": "code",
   "execution_count": null,
   "id": "3d363604-635d-48db-b1cd-ef13379596d1",
   "metadata": {},
   "outputs": [],
   "source": []
  }
 ],
 "metadata": {
  "kernelspec": {
   "display_name": "Python 3",
   "language": "python",
   "name": "python3"
  },
  "language_info": {
   "codemirror_mode": {
    "name": "ipython",
    "version": 3
   },
   "file_extension": ".py",
   "mimetype": "text/x-python",
   "name": "python",
   "nbconvert_exporter": "python",
   "pygments_lexer": "ipython3",
   "version": "3.7.6"
  }
 },
 "nbformat": 4,
 "nbformat_minor": 5
}
